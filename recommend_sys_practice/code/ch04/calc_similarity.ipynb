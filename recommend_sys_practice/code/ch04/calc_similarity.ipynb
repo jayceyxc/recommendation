{
 "cells": [
  {
   "cell_type": "markdown",
   "metadata": {},
   "source": [
    "# 相似度计算\n",
    "选自《推荐系统开发实战》的4.1.9节"
   ]
  },
  {
   "cell_type": "markdown",
   "metadata": {},
   "source": [
    "## 1. 欧氏距离\n",
    "欧式距离也叫欧几里得距离，指在$m$维空间中两个点的真实距离。\n",
    "\n",
    "在二维平面上，计算点$a(x_1,y_1)$与点$b(x_2, y_2)$之间的欧氏距离的公式如下。如果是多维空间，则类比往后追加。比如是三维空间，则在根号中再加$(z_1-z_2)^2$\n",
    "$$\n",
    "d_{12} = \\sqrt{(x_1-x_2)^2+(y_1-y_2)^2}\n",
    "$$"
   ]
  },
  {
   "cell_type": "code",
   "execution_count": 1,
   "metadata": {},
   "outputs": [],
   "source": [
    "from numpy import *"
   ]
  },
  {
   "cell_type": "code",
   "execution_count": 2,
   "metadata": {},
   "outputs": [],
   "source": [
    "def EuclideanDistance(a, b):\n",
    "    return sqrt((a[0]-b[0])**2 + (a[1]-b[1])**2)"
   ]
  },
  {
   "cell_type": "code",
   "execution_count": 3,
   "metadata": {},
   "outputs": [
    {
     "output_type": "stream",
     "name": "stdout",
     "text": "a, b 二维欧式距离为：1.4142135623730951\n"
    }
   ],
   "source": [
    "print(f'a, b 二维欧式距离为：{EuclideanDistance((1,1), (2, 2))}')"
   ]
  },
  {
   "cell_type": "markdown",
   "metadata": {},
   "source": [
    "## 2.曼哈顿距离\n",
    "曼哈顿距离又叫城市街区距离。在二维平面中，计算点$a(x_1,y_1)$与点$b(x_2, y_2)$之间的曼哈顿距离的公式如下：\n",
    "$$\n",
    "d_{12} = |x_1 - x_2| + |y_1 - y_2|\n",
    "$$"
   ]
  },
  {
   "cell_type": "code",
   "execution_count": 4,
   "metadata": {},
   "outputs": [],
   "source": [
    "from numpy import *"
   ]
  },
  {
   "cell_type": "code",
   "execution_count": 5,
   "metadata": {},
   "outputs": [],
   "source": [
    "def ManhattanDistance(a, b):\n",
    "    return abs(a[0] - b[0]) + abs(a[1] - b[1])"
   ]
  },
  {
   "cell_type": "code",
   "execution_count": 6,
   "metadata": {},
   "outputs": [
    {
     "output_type": "stream",
     "name": "stdout",
     "text": "a, b 二维曼哈顿距离为：2\n"
    }
   ],
   "source": [
    "print(f'a, b 二维曼哈顿距离为：{ManhattanDistance((1, 1), (2, 2))}')"
   ]
  },
  {
   "cell_type": "markdown",
   "metadata": {},
   "source": [
    "## 3.切比雪夫距离\n",
    "切比雪夫距离（Chebyshev Distance）的定义为：$\\max(|x_1-x_2|,|y_1-y_2|,\\dots)$。\n",
    "在二维平面中，计算点$a(x_1,y_1)$与点$b(x_2, y_2)$之间的切比雪夫距离的公式如下：\n",
    "$$\n",
    "d_{12} = \\max(|x_1-x_2|,|y_1-y_2|)\n",
    "$$"
   ]
  },
  {
   "cell_type": "code",
   "execution_count": 7,
   "metadata": {},
   "outputs": [],
   "source": [
    "from numpy import *"
   ]
  },
  {
   "cell_type": "code",
   "execution_count": 11,
   "metadata": {},
   "outputs": [],
   "source": [
    "def ChebyshevDistance(a, b):\n",
    "    return max(abs(a[0] - b[0]), abs(a[1] - b[1]))"
   ]
  },
  {
   "cell_type": "code",
   "execution_count": 12,
   "metadata": {},
   "outputs": [
    {
     "output_type": "stream",
     "name": "stdout",
     "text": "a, b 二维切比雪夫距离为：2\n"
    }
   ],
   "source": [
    "print(f'a, b 二维切比雪夫距离为：{ChebyshevDistance((1, 2), (3, 4))}')"
   ]
  },
  {
   "cell_type": "markdown",
   "metadata": {},
   "source": [
    "## 4.马氏距离\n",
    "马氏距离是指数据的协方差距离。有$m$个样本向量$(\\mathrm{X_1},\\dots,\\mathrm{X_m})$，协方差矩阵为$\\mathrm{S}$， 其中向量$X_i$和$X_j$之间的马氏距离的公式如下：\n",
    "$$\n",
    "D(X_i,X_j) = \\sqrt{(X_i-X_j)^{T}S^{-1}(X_i-X_j)}\n",
    "$$\n"
   ]
  },
  {
   "cell_type": "markdown",
   "metadata": {},
   "source": [
    "## 5.夹角余弦距离\n",
    "几何中的夹角余弦用来衡量两个向量方向的差异。在二维空间中，向量$a(x_1,y_1)$与向量$b(x_2,y_2)$的夹角余弦公式如下：\n",
    "$$\n",
    "\\cos(\\theta) = \\frac{x_1x_2 + y_1y_2}{\\sqrt{x_1^2+y_1^2}\\cdot\\sqrt{x_2^2+y_2^2}}\n",
    "$$"
   ]
  },
  {
   "cell_type": "code",
   "execution_count": 17,
   "metadata": {},
   "outputs": [],
   "source": [
    "from numpy import *"
   ]
  },
  {
   "cell_type": "code",
   "execution_count": 18,
   "metadata": {},
   "outputs": [],
   "source": [
    "def CosineSimilarity(a, b):\n",
    "    cos = (a[0] * b[0] + a[1] * b[1]) / (sqrt(a[0]**2 + a[1]**2) * sqrt(b[0]**2 + b[1]**2))\n",
    "    return cos"
   ]
  },
  {
   "cell_type": "code",
   "execution_count": 19,
   "metadata": {},
   "outputs": [
    {
     "output_type": "stream",
     "name": "stdout",
     "text": "a, b 二维夹角余弦距离为：0.9999999999999998\n"
    }
   ],
   "source": [
    "print(f'a, b 二维夹角余弦距离为：{CosineSimilarity((1, 1), (2, 2))}')"
   ]
  },
  {
   "cell_type": "markdown",
   "metadata": {},
   "source": [
    "## 6.杰卡德相似系数和杰卡德距离\n",
    "两个集合A和B的交集元素在A和B的并集中所占的比例，称为连个集合的杰卡德相似系数，用符号$J(A,B)$表示，对应的公式如下：\n",
    "$$\n",
    "J(A,B) = \\frac{|A \\cap B|}{|A \\cup B|}\n",
    "$$\n",
    "杰卡德系数是衡量两个集合相似度的一种指标"
   ]
  },
  {
   "cell_type": "code",
   "execution_count": 20,
   "metadata": {},
   "outputs": [],
   "source": [
    "from numpy import *"
   ]
  },
  {
   "cell_type": "code",
   "execution_count": 21,
   "metadata": {},
   "outputs": [],
   "source": [
    "def JaccardSimilarityCoefficient(a,b):\n",
    "    set_a = set(a)\n",
    "    set_b = set(b)\n",
    "    dis = float(len(set_a & set_b) / len(set_a | set_b))\n",
    "    return dis"
   ]
  },
  {
   "cell_type": "code",
   "execution_count": 22,
   "metadata": {},
   "outputs": [
    {
     "output_type": "stream",
     "name": "stdout",
     "text": "a, b 杰卡德相似系数：0.5\n"
    }
   ],
   "source": [
    "print(f'a, b 杰卡德相似系数：{JaccardSimilarityCoefficient((1, 2, 3), (2, 3, 4))}')"
   ]
  },
  {
   "cell_type": "markdown",
   "metadata": {},
   "source": [
    "与杰卡德相似系数相反的概念是杰卡德距离（Jaccard Distance）。杰卡德距离的公式如下：\n",
    "$$\n",
    "J_{\\delta}(A,B) = \\frac{|A\\cup B| - |A\\cap B|}{|A\\cup B|}\n",
    "$$\n",
    "杰卡德距离即两个集合中不同元素占所有元素的比例，用来衡量两个集合的区分度。"
   ]
  },
  {
   "cell_type": "code",
   "execution_count": 23,
   "metadata": {},
   "outputs": [],
   "source": [
    "from numpy import *"
   ]
  },
  {
   "cell_type": "code",
   "execution_count": 29,
   "metadata": {},
   "outputs": [],
   "source": [
    "def JaccardSimilarityDistance(a, b):\n",
    "    set_a = set(a)\n",
    "    set_b = set(b)\n",
    "    dis = float(len((set_a | set_b) - (set_a & set_b)) / len(set_a | set_b))\n",
    "    return dis"
   ]
  },
  {
   "cell_type": "code",
   "execution_count": 31,
   "metadata": {},
   "outputs": [
    {
     "output_type": "stream",
     "name": "stdout",
     "text": "a, b 杰卡德距离：0.5\n"
    }
   ],
   "source": [
    "print(f'a, b 杰卡德距离：{JaccardSimilarityDistance((1, 2, 3), (2, 3, 4))}')"
   ]
  },
  {
   "cell_type": "markdown",
   "metadata": {},
   "source": [
    "## 7.相关系数与相关距离\n",
    "相关系数是衡量随机变量X和Y相关程度的一种方法，相关系数的取值范围是\\[-1, 1\\]。相关系数的绝对值越大，表明X和Y的相关度越高。\n",
    "随机变量X与Y的相关系数为\n",
    "$$\n",
    "\\rho_{XY} = \\frac{Cov(X,Y)}{\\sqrt{D(X)}\\sqrt{(D(Y)}} = \\frac{E((X-EX)(Y-EY))}{\\sqrt{D(X)}\\sqrt{D(Y)}}\n",
    "$$\n",
    "随机变量X和Y的相关距离为：\n",
    "$$\n",
    "D_{XY} = 1 - \\rho_{XY}\n",
    "$$"
   ]
  },
  {
   "cell_type": "code",
   "execution_count": null,
   "metadata": {},
   "outputs": [],
   "source": []
  }
 ],
 "metadata": {
  "language_info": {
   "codemirror_mode": {
    "name": "ipython",
    "version": 3
   },
   "file_extension": ".py",
   "mimetype": "text/x-python",
   "name": "python",
   "nbconvert_exporter": "python",
   "pygments_lexer": "ipython3",
   "version": "3.7.4-final"
  },
  "orig_nbformat": 2,
  "kernelspec": {
   "name": "python37464bit5da62c7ed731412fa3edffa85776323d",
   "display_name": "Python 3.7.4 64-bit"
  }
 },
 "nbformat": 4,
 "nbformat_minor": 2
}